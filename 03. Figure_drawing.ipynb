{
 "cells": [
  {
   "cell_type": "code",
   "execution_count": 1,
   "metadata": {},
   "outputs": [],
   "source": [
    "import numpy as np\n",
    "import cv2"
   ]
  },
  {
   "cell_type": "code",
   "execution_count": 2,
   "metadata": {},
   "outputs": [],
   "source": [
    "R, G, B = (0,0,255), (0,255,0), (255,0,0)\n",
    "img = np.zeros((800, 800, 3), np.uint8)\n",
    "img[:] = (255, 255, 255)"
   ]
  },
  {
   "cell_type": "code",
   "execution_count": 3,
   "metadata": {},
   "outputs": [],
   "source": [
    "cv2.line(img, (20,20), (100,100), R)\n",
    "cv2.line(img, (120,20), (200,100), G, 2)\n",
    "cv2.line(img, (220,20), (300,100), B, 3)\n",
    "cv2.line(img, (320,20), (400,100), R, 5, cv2.LINE_AA)\n",
    "\n",
    "cv2.imshow(\"drawing figures\", img)\n",
    "cv2.waitKey(0)\n",
    "cv2.destroyAllWindows()"
   ]
  },
  {
   "cell_type": "code",
   "execution_count": 4,
   "metadata": {},
   "outputs": [],
   "source": [
    "cv2.rectangle(img, (20,150), (170, 300), R, 1)\n",
    "cv2.rectangle(img, (190,150), (340, 300), G, 3)\n",
    "cv2.rectangle(img, (360,150), (510, 300), B, -1)\n",
    "\n",
    "cv2.imshow(\"drawing figures\", img)\n",
    "cv2.waitKey(0)\n",
    "cv2.destroyAllWindows()"
   ]
  },
  {
   "cell_type": "code",
   "execution_count": 5,
   "metadata": {},
   "outputs": [],
   "source": [
    "cv2.circle(img, (120,500), 100, R, 3)\n",
    "cv2.circle(img, (340, 500),100, G, 3, cv2.LINE_AA)\n",
    "cv2.circle(img, (570, 500),100, B, -1, cv2.LINE_AA)\n",
    "\n",
    "cv2.imshow(\"drawing figures\", img)\n",
    "cv2.waitKey(0)\n",
    "cv2.destroyAllWindows()"
   ]
  }
 ],
 "metadata": {
  "kernelspec": {
   "display_name": "Python 3",
   "language": "python",
   "name": "python3"
  },
  "language_info": {
   "codemirror_mode": {
    "name": "ipython",
    "version": 3
   },
   "file_extension": ".py",
   "mimetype": "text/x-python",
   "name": "python",
   "nbconvert_exporter": "python",
   "pygments_lexer": "ipython3",
   "version": "3.8.5"
  }
 },
 "nbformat": 4,
 "nbformat_minor": 4
}
