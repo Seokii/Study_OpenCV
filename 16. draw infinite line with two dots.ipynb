{
 "cells": [
  {
   "cell_type": "markdown",
   "id": "2c11b955",
   "metadata": {},
   "source": [
    "## 0. Import"
   ]
  },
  {
   "cell_type": "code",
   "execution_count": 1,
   "id": "a601f2b7",
   "metadata": {},
   "outputs": [],
   "source": [
    "import cv2\n",
    "import numpy as np"
   ]
  },
  {
   "cell_type": "markdown",
   "id": "a55207ab",
   "metadata": {},
   "source": [
    "## 1. draw image & set points"
   ]
  },
  {
   "cell_type": "code",
   "execution_count": 2,
   "id": "d3f4568b",
   "metadata": {},
   "outputs": [],
   "source": [
    "img_size = (500,800,3)\n",
    "img = np.ones(img_size) * 255"
   ]
  },
  {
   "cell_type": "code",
   "execution_count": 3,
   "id": "ec6c8cbe",
   "metadata": {},
   "outputs": [],
   "source": [
    "x1, y1, x2, y2 = 200, 200, 600, 300\n",
    "R,G,B = (0,0,255), (0,255,0), (255,0,0)"
   ]
  },
  {
   "cell_type": "code",
   "execution_count": 4,
   "id": "3e698cc7",
   "metadata": {},
   "outputs": [],
   "source": [
    "cv2.circle(img, (x1, y1), 7, G, -1, cv2.LINE_AA)\n",
    "cv2.circle(img, (x2, y2), 7, G, -1, cv2.LINE_AA)\n",
    "cv2.line(img, (x1, y1), (x2, y2), R, 3, cv2.LINE_AA)\n",
    "\n",
    "cv2.imshow(\"infinite line\", img)\n",
    "cv2.waitKey(0)\n",
    "cv2.destroyAllWindows()"
   ]
  },
  {
   "cell_type": "markdown",
   "id": "a3e72fb4",
   "metadata": {},
   "source": [
    "## 2. equation of a straight line"
   ]
  },
  {
   "cell_type": "markdown",
   "id": "ede8a842",
   "metadata": {},
   "source": [
    "두 점의 좌표가 주어졌을 때, 직선의 방정식(y=ax+b)의 a값과 b값 구하기"
   ]
  },
  {
   "cell_type": "code",
   "execution_count": 5,
   "id": "1c0cc4f9",
   "metadata": {},
   "outputs": [],
   "source": [
    "def cal_ab(x1, y1, x2, y2):\n",
    "    # y = ax + b\n",
    "    a = (y2 - y1)/(x2 - x1)\n",
    "    b = (x2*y1 - x1*y2)/(x2 - x1)\n",
    "\n",
    "    return a,b"
   ]
  },
  {
   "cell_type": "code",
   "execution_count": 6,
   "id": "2759b3b7",
   "metadata": {},
   "outputs": [],
   "source": [
    "a,b = cal_ab(x1, y1, x2, y2)"
   ]
  },
  {
   "cell_type": "markdown",
   "id": "e4a164a5",
   "metadata": {},
   "source": [
    "## 3. draw a straight line"
   ]
  },
  {
   "cell_type": "code",
   "execution_count": 7,
   "id": "ba1507ef",
   "metadata": {},
   "outputs": [
    {
     "data": {
      "text/plain": [
       "(500, 800, 3)"
      ]
     },
     "execution_count": 7,
     "metadata": {},
     "output_type": "execute_result"
    }
   ],
   "source": [
    "img.shape"
   ]
  },
  {
   "cell_type": "code",
   "execution_count": 8,
   "id": "fc8db3e4",
   "metadata": {},
   "outputs": [
    {
     "name": "stdout",
     "output_type": "stream",
     "text": [
      "a = 0.25, b = 150.0\n"
     ]
    }
   ],
   "source": [
    "print(f\"a = {a}, b = {b}\")"
   ]
  },
  {
   "cell_type": "code",
   "execution_count": 9,
   "id": "4dce7902",
   "metadata": {},
   "outputs": [],
   "source": [
    "img = np.ones(img_size) * 255\n",
    "cv2.circle(img, (x1, y1), 7, G, -1, cv2.LINE_AA)\n",
    "cv2.circle(img, (x2, y2), 7, G, -1, cv2.LINE_AA)\n",
    "\n",
    "# y=ax+b의 식을 사용해 직선을 그려보자!\n",
    "cv2.line(img, (0, int(b)), (int(img.shape[1]), int(a*img.shape[1]+b)), R, 3, cv2.LINE_AA)\n",
    "\n",
    "cv2.imshow(\"infinite line\", img)\n",
    "cv2.waitKey(0)\n",
    "cv2.destroyAllWindows()"
   ]
  }
 ],
 "metadata": {
  "kernelspec": {
   "display_name": "Python 3 (ipykernel)",
   "language": "python",
   "name": "python3"
  },
  "language_info": {
   "codemirror_mode": {
    "name": "ipython",
    "version": 3
   },
   "file_extension": ".py",
   "mimetype": "text/x-python",
   "name": "python",
   "nbconvert_exporter": "python",
   "pygments_lexer": "ipython3",
   "version": "3.8.5"
  }
 },
 "nbformat": 4,
 "nbformat_minor": 5
}
