{
 "cells": [
  {
   "cell_type": "markdown",
   "id": "c547e639",
   "metadata": {},
   "source": [
    "### Import Libraries"
   ]
  },
  {
   "cell_type": "code",
   "execution_count": 1,
   "id": "0669e4ad",
   "metadata": {},
   "outputs": [],
   "source": [
    "import cv2\n",
    "import numpy as np\n",
    "import os"
   ]
  },
  {
   "cell_type": "markdown",
   "id": "dde98058",
   "metadata": {},
   "source": [
    "### Set path"
   ]
  },
  {
   "cell_type": "code",
   "execution_count": 2,
   "id": "7c41b943",
   "metadata": {},
   "outputs": [],
   "source": [
    "path_dir = \"images/faces/\"\n",
    "file_list = os.listdir(path_dir)"
   ]
  },
  {
   "cell_type": "code",
   "execution_count": 3,
   "id": "c13739d7",
   "metadata": {},
   "outputs": [
    {
     "data": {
      "text/plain": [
       "'Aaron_Eckhart_0001.jpg'"
      ]
     },
     "execution_count": 3,
     "metadata": {},
     "output_type": "execute_result"
    }
   ],
   "source": [
    "file_list[0]"
   ]
  },
  {
   "cell_type": "markdown",
   "id": "97e5f48b",
   "metadata": {},
   "source": [
    "### Cutting Images"
   ]
  },
  {
   "cell_type": "code",
   "execution_count": 4,
   "id": "6f4a429d",
   "metadata": {},
   "outputs": [
    {
     "data": {
      "text/plain": [
       "9330"
      ]
     },
     "execution_count": 4,
     "metadata": {},
     "output_type": "execute_result"
    }
   ],
   "source": [
    "len(file_list)"
   ]
  },
  {
   "cell_type": "markdown",
   "id": "9b0ebbe3",
   "metadata": {},
   "source": [
    "이미지는 총 9330장 입니다."
   ]
  },
  {
   "cell_type": "code",
   "execution_count": 5,
   "id": "97a412c2",
   "metadata": {},
   "outputs": [],
   "source": [
    "file_name_list = []\n",
    "\n",
    "for i in range(len(file_list)):\n",
    "    file_name_list.append(file_list[i].replace(\".jpg\",\"\"))"
   ]
  },
  {
   "cell_type": "code",
   "execution_count": 6,
   "id": "b7ec4edb",
   "metadata": {
    "scrolled": true
   },
   "outputs": [
    {
     "data": {
      "text/plain": [
       "'Aaron_Eckhart_0001'"
      ]
     },
     "execution_count": 6,
     "metadata": {},
     "output_type": "execute_result"
    }
   ],
   "source": [
    "file_name_list[0]"
   ]
  },
  {
   "cell_type": "markdown",
   "id": "350b47bc",
   "metadata": {},
   "source": [
    "최종 산출물이 \"image1.jpg.jpg\"와 같이 확장자명이 이름으로 들어가지 않게 하기 위한 처리"
   ]
  },
  {
   "cell_type": "code",
   "execution_count": 7,
   "id": "5c69a43f",
   "metadata": {},
   "outputs": [],
   "source": [
    "image = cv2.imread('images/faces/Aaron_Eckhart_0001.jpg')\n",
    "face_cascade = cv2.CascadeClassifier('models/haarcascade_frontalface_default.xml')\n",
    "gray = cv2.cvtColor(image, cv2.COLOR_BGR2GRAY)\n",
    "faces = face_cascade.detectMultiScale(gray, 1.3, 5)\n",
    "for (x,y,w,h) in faces:\n",
    "    cv2.rectangle(image, (x,y), (x+w, y+h), (255,0,0), 2)\n",
    "    cv2.imshow(\"face_recognition\", image)\n",
    "    cv2.waitKey(0)\n",
    "    cv2.destroyAllWindows()"
   ]
  },
  {
   "cell_type": "markdown",
   "id": "3b0626f6",
   "metadata": {},
   "source": [
    "1. cv2.imread로 이미지 불러오기\n",
    "2. OpenCV의 얼굴 인식 모델을 불러옴\n",
    "3. 이미지를 그레이스케일로 변환\n",
    "4. 얼굴인식수행\n",
    "5. 인식한 얼굴을 이미지 위에 cv2.rectangle로 표시후 출력"
   ]
  },
  {
   "cell_type": "code",
   "execution_count": 8,
   "id": "faf8a370",
   "metadata": {},
   "outputs": [],
   "source": [
    "image = cv2.imread('images/faces/Aaron_Eckhart_0001.jpg')\n",
    "face_cascade = cv2.CascadeClassifier('models/haarcascade_frontalface_default.xml')\n",
    "gray = cv2.cvtColor(image, cv2.COLOR_BGR2GRAY)\n",
    "faces = face_cascade.detectMultiScale(gray, 1.3, 5)\n",
    "for (x,y,w,h) in faces:\n",
    "    cv2.rectangle(image, (x,y), (x+w, y+h), (255,0,0), 2)\n",
    "    cropped = image[y: y+h, x: x+w]\n",
    "    resize = cv2.resize(cropped, (180,180))\n",
    "    cv2.imshow(\"crop&resize\", resize)\n",
    "    cv2.waitKey(0)\n",
    "    cv2.destroyAllWindows()"
   ]
  },
  {
   "cell_type": "code",
   "execution_count": 9,
   "id": "81f8138f",
   "metadata": {},
   "outputs": [],
   "source": [
    "def Cutting_face_save(image, name):\n",
    "    face_cascade = cv2.CascadeClassifier('models/haarcascade_frontalface_default.xml')\n",
    "    gray = cv2.cvtColor(image, cv2.COLOR_BGR2GRAY)\n",
    "    faces = face_cascade.detectMultiScale(gray, 1.3, 5)\n",
    "    for (x,y,w,h) in faces:\n",
    "        # cv2.rectangle(image, (x,y), (x+w, y+h), (255,0,0), 2)\n",
    "        cropped = image[y: y+h, x: x+w]\n",
    "        resize = cv2.resize(cropped, (180,180))\n",
    "        # cv2.imshow(\"crop&resize\", resize)\n",
    "        # cv2.waitKey(0)\n",
    "        # cv2.destroyAllWindows()\n",
    "\n",
    "        # 이미지 저장하기\n",
    "        cv2.imwrite(f\"images/cutting_faces/{name}.jpg\", resize)"
   ]
  },
  {
   "cell_type": "code",
   "execution_count": 10,
   "id": "24b61884",
   "metadata": {},
   "outputs": [],
   "source": [
    "for name in file_name_list:\n",
    "    img = cv2.imread(\"images/faces/\"+name+\".jpg\")\n",
    "    Cutting_face_save(img, name)"
   ]
  },
  {
   "cell_type": "code",
   "execution_count": null,
   "id": "f7c5bf72",
   "metadata": {},
   "outputs": [],
   "source": []
  }
 ],
 "metadata": {
  "kernelspec": {
   "display_name": "Python 3 (ipykernel)",
   "language": "python",
   "name": "python3"
  },
  "language_info": {
   "codemirror_mode": {
    "name": "ipython",
    "version": 3
   },
   "file_extension": ".py",
   "mimetype": "text/x-python",
   "name": "python",
   "nbconvert_exporter": "python",
   "pygments_lexer": "ipython3",
   "version": "3.8.5"
  }
 },
 "nbformat": 4,
 "nbformat_minor": 5
}
