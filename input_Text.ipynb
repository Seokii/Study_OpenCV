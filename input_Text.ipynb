{
 "cells": [
  {
   "cell_type": "code",
   "execution_count": 1,
   "metadata": {},
   "outputs": [],
   "source": [
    "import numpy as np\n",
    "import cv2"
   ]
  },
  {
   "cell_type": "code",
   "execution_count": 2,
   "metadata": {},
   "outputs": [],
   "source": [
    "color1 = (98, 17, 0)\n",
    "color2 = (155,200,230)\n",
    "color3 = (254, 1, 15)"
   ]
  },
  {
   "cell_type": "code",
   "execution_count": 3,
   "metadata": {},
   "outputs": [],
   "source": [
    "img = np.zeros((500, 500, 3), np.uint8)\n",
    "img.fill(255)"
   ]
  },
  {
   "cell_type": "code",
   "execution_count": 4,
   "metadata": {},
   "outputs": [],
   "source": [
    "cv2.putText(img, 'SEOKII BLOG', (50,50), cv2.FONT_HERSHEY_SIMPLEX, 1, color1, 2, cv2.LINE_AA)\n",
    "cv2.putText(img, 'SEOKII BLOG', (50,100), 1, 1, color2, 2, cv2.LINE_AA)\n",
    "cv2.putText(img, 'SEOKII BLOG', (50,150), 2, 2, color3, 2, cv2.LINE_AA)\n",
    "cv2.putText(img, 'SEOKII BLOG', (50,200), 3, 2, color1, 2, cv2.LINE_AA)\n",
    "cv2.putText(img, 'SEOKII BLOG', (50,250), 4, 2, color2, 2, cv2.LINE_AA)\n",
    "cv2.putText(img, 'SEOKII BLOG', (50,300), 5, 2, color3, 2, cv2.LINE_AA)\n",
    "cv2.putText(img, 'SEOKII BLOG', (50,350), 6, 2, color1, 2, cv2.LINE_AA)\n",
    "cv2.putText(img, 'SEOKII BLOG', (50,400), cv2.FONT_HERSHEY_SCRIPT_COMPLEX, 2, color2, 2, cv2.LINE_AA)\n",
    "\n",
    "cv2.imshow('input_Text', img)\n",
    "cv2.waitKey(0)\n",
    "cv2.destroyAllWindows()"
   ]
  }
 ],
 "metadata": {
  "kernelspec": {
   "display_name": "Python 3",
   "language": "python",
   "name": "python3"
  },
  "language_info": {
   "codemirror_mode": {
    "name": "ipython",
    "version": 3
   },
   "file_extension": ".py",
   "mimetype": "text/x-python",
   "name": "python",
   "nbconvert_exporter": "python",
   "pygments_lexer": "ipython3",
   "version": "3.8.5"
  }
 },
 "nbformat": 4,
 "nbformat_minor": 4
}
