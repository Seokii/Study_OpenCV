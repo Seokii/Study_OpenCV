{
 "cells": [
  {
   "cell_type": "code",
   "execution_count": 1,
   "metadata": {},
   "outputs": [],
   "source": [
    "import numpy as np\n",
    "import cv2"
   ]
  },
  {
   "cell_type": "code",
   "execution_count": 2,
   "metadata": {},
   "outputs": [],
   "source": [
    "cat = cv2.imread(\"images/cat.jpg\", cv2.IMREAD_GRAYSCALE)\n",
    "dog = cv2.imread(\"images/dog.jpg\", cv2.IMREAD_GRAYSCALE)"
   ]
  },
  {
   "cell_type": "code",
   "execution_count": 3,
   "metadata": {
    "scrolled": true
   },
   "outputs": [
    {
     "data": {
      "text/plain": [
       "((426, 640), (427, 640))"
      ]
     },
     "execution_count": 3,
     "metadata": {},
     "output_type": "execute_result"
    }
   ],
   "source": [
    "cat.shape, dog.shape"
   ]
  },
  {
   "cell_type": "code",
   "execution_count": 4,
   "metadata": {},
   "outputs": [],
   "source": [
    "cat = cv2.resize(cat, (640 ,480))\n",
    "dog = cv2.resize(dog, (640 ,480))"
   ]
  },
  {
   "cell_type": "code",
   "execution_count": 5,
   "metadata": {},
   "outputs": [],
   "source": [
    "ratio1 = 0.6\n",
    "ratio2 = 0.4\n",
    "add1 = cv2.add(cat,dog)\n",
    "add2 = cv2.add(cat * ratio1, dog* ratio2)\n",
    "add2 = np.clip(add2, 0, 255).astype('uint8')\n",
    "add3 = cv2.addWeighted(cat, ratio1, dog, ratio2, 0)"
   ]
  },
  {
   "cell_type": "code",
   "execution_count": 6,
   "metadata": {},
   "outputs": [],
   "source": [
    "cv2.imshow(\"cat\", cat)\n",
    "cv2.imshow(\"dog\", dog)\n",
    "cv2.imshow(\"add1\", add1)\n",
    "cv2.imshow(\"add2\", add2)\n",
    "cv2.imshow(\"add3\", add3)\n",
    "cv2.waitKey(0)\n",
    "cv2.destroyAllWindows()"
   ]
  }
 ],
 "metadata": {
  "kernelspec": {
   "display_name": "Python 3",
   "language": "python",
   "name": "python3"
  },
  "language_info": {
   "codemirror_mode": {
    "name": "ipython",
    "version": 3
   },
   "file_extension": ".py",
   "mimetype": "text/x-python",
   "name": "python",
   "nbconvert_exporter": "python",
   "pygments_lexer": "ipython3",
   "version": "3.8.5"
  }
 },
 "nbformat": 4,
 "nbformat_minor": 4
}
